{
 "cells": [
  {
   "cell_type": "markdown",
   "metadata": {},
   "source": [
    "Exercise 1 - generated quantities"
   ]
  },
  {
   "cell_type": "code",
   "execution_count": 2,
   "metadata": {},
   "outputs": [
    {
     "name": "stderr",
     "output_type": "stream",
     "text": [
      "INFO:cmdstanpy:found newer exe file, not recompiling\n",
      "INFO:cmdstanpy:CmdStan start processing\n",
      "chain 1 |\u001b[33m          \u001b[0m| 00:00 Status\n",
      "\u001b[A\n",
      "\n",
      "chain 1 |\u001b[34m██████████\u001b[0m| 00:00 Sampling completed\n",
      "chain 2 |\u001b[34m██████████\u001b[0m| 00:00 Sampling completed\n",
      "chain 3 |\u001b[34m██████████\u001b[0m| 00:00 Sampling completed\n",
      "chain 4 |\u001b[34m██████████\u001b[0m| 00:00 Sampling completed"
     ]
    },
    {
     "name": "stdout",
     "output_type": "stream",
     "text": [
      "                                                                                                                                                                                                                                                                                                                                "
     ]
    },
    {
     "name": "stderr",
     "output_type": "stream",
     "text": [
      "\n",
      "INFO:cmdstanpy:CmdStan done processing.\n"
     ]
    },
    {
     "name": "stdout",
     "output_type": "stream",
     "text": [
      "\n",
      "      lp__  accept_stat__    lambda  y_sim[1]  y_sim[2]  y_sim[3]  y_sim[4]  \\\n",
      "0      0.0            0.0   71.0222      73.0      67.0      74.0      58.0   \n",
      "1      0.0            0.0   78.5103      72.0      61.0      73.0      75.0   \n",
      "2      0.0            0.0  258.5390     268.0     237.0     261.0     279.0   \n",
      "3      0.0            0.0  105.2300      92.0     130.0     101.0      97.0   \n",
      "4      0.0            0.0  186.2120     175.0     197.0     178.0     186.0   \n",
      "...    ...            ...       ...       ...       ...       ...       ...   \n",
      "3995   0.0            0.0   14.2617      13.0      19.0      19.0      11.0   \n",
      "3996   0.0            0.0   19.3037      20.0      22.0      12.0      26.0   \n",
      "3997   0.0            0.0  272.8840     261.0     275.0     291.0     268.0   \n",
      "3998   0.0            0.0  181.4990     187.0     162.0     194.0     195.0   \n",
      "3999   0.0            0.0   24.9128      28.0      21.0      32.0      29.0   \n",
      "\n",
      "      y_sim[5]  y_sim[6]  \n",
      "0         80.0      69.0  \n",
      "1         82.0      78.0  \n",
      "2        265.0     259.0  \n",
      "3        106.0     112.0  \n",
      "4        172.0     195.0  \n",
      "...        ...       ...  \n",
      "3995      17.0      12.0  \n",
      "3996      24.0      14.0  \n",
      "3997     288.0     289.0  \n",
      "3998     158.0     188.0  \n",
      "3999      17.0      20.0  \n",
      "\n",
      "[4000 rows x 9 columns]\n"
     ]
    },
    {
     "name": "stderr",
     "output_type": "stream",
     "text": [
      "C:\\Users\\xyz\\AppData\\Local\\Temp\\ipykernel_1420\\3283702604.py:31: FutureWarning: In a future version of pandas all arguments of DataFrame.drop except for the argument 'labels' will be keyword-only.\n",
      "  y_sims = df.drop(df.columns[:3], 1)\n"
     ]
    },
    {
     "data": {
      "image/png": "[encoded data removed]",
      "text/plain": [
       "<Figure size 432x288 with 1 Axes>"
      ]
     },
     "metadata": {
      "needs_background": "light"
     },
     "output_type": "display_data"
    },
    {
     "data": {
      "image/png": "[encoded data removed]",
      "text/plain": [
       "<Figure size 432x288 with 6 Axes>"
      ]
     },
     "metadata": {
      "needs_background": "light"
     },
     "output_type": "display_data"
    }
   ],
   "source": [
    "from cmdstanpy import CmdStanModel\n",
    "import pandas as pd\n",
    "import arviz as az\n",
    "import numpy as np\n",
    "import matplotlib.pyplot as plt\n",
    "import scipy.stats as stats\n",
    "\n",
    "# 1. Compile code_1.stan and sample from it using M=F\n",
    "\n",
    "F = len(\"Maciej\")\n",
    "L = len(\"Brudzisz\")\n",
    "\n",
    "data = {\n",
    "    \"M\": F\n",
    "}\n",
    "\n",
    "model = CmdStanModel(stan_file=\"code_1.stan\")\n",
    "\n",
    "fit = model.sample(data=data)\n",
    "\n",
    "# 2. Create a pandas dataframe from resulting draws\n",
    "df = fit.draws_pd()\n",
    "\n",
    "print(df)\n",
    "\n",
    "# 3. Plot a histogram for each of y_sim and lambda\n",
    "Lambda = df['lambda']\n",
    "Lambda.plot.hist(bins=30)\n",
    "plt.suptitle(\"Lambda\")\n",
    "\n",
    "y_sims = df.drop(df.columns[:3], 1)\n",
    "y_sims.plot.hist(subplots=True, bins=30)\n",
    "plt.suptitle(\"y_sims\")\n",
    "\n",
    "plt.show()"
   ]
  },
  {
   "cell_type": "markdown",
   "metadata": {},
   "source": [
    "Excercise 2 - constraints on the data"
   ]
  },
  {
   "cell_type": "code",
   "execution_count": 20,
   "metadata": {},
   "outputs": [
    {
     "name": "stderr",
     "output_type": "stream",
     "text": [
      "INFO:cmdstanpy:found newer exe file, not recompiling\n",
      "INFO:cmdstanpy:found newer exe file, not recompiling\n",
      "INFO:cmdstanpy:CmdStan start processing\n",
      "chain 1 |\u001b[33m          \u001b[0m| 00:00 Status\n",
      "\u001b[A\n",
      "\n",
      "chain 1 |\u001b[34m████████▋ \u001b[0m| 00:00 Iteration: 1600 / 2000 [ 80%]  (Sampling)\n",
      "\u001b[A\n",
      "\n",
      "chain 1 |\u001b[34m██████████\u001b[0m| 00:00 Sampling completed                       \n",
      "chain 2 |\u001b[34m██████████\u001b[0m| 00:00 Sampling completed                       \n",
      "chain 3 |\u001b[34m██████████\u001b[0m| 00:00 Sampling completed                       \n",
      "chain 4 |\u001b[34m██████████\u001b[0m| 00:00 Sampling completed                       "
     ]
    },
    {
     "name": "stdout",
     "output_type": "stream",
     "text": [
      "                                                                                                                                                                                                                                                                                                                                "
     ]
    },
    {
     "name": "stderr",
     "output_type": "stream",
     "text": [
      "\n",
      "INFO:cmdstanpy:CmdStan done processing.\n",
      "INFO:cmdstanpy:CmdStan start processing\n"
     ]
    },
    {
     "name": "stdout",
     "output_type": "stream",
     "text": [
      "\n"
     ]
    },
    {
     "name": "stderr",
     "output_type": "stream",
     "text": [
      "chain 1 |\u001b[33m          \u001b[0m| 00:00 Status\n",
      "\u001b[A\n",
      "\n",
      "chain 1 |\u001b[34m██████████\u001b[0m| 00:00 Sampling completed\n",
      "chain 2 |\u001b[34m██████████\u001b[0m| 00:00 Sampling completed\n",
      "chain 3 |\u001b[34m██████████\u001b[0m| 00:00 Sampling completed\n",
      "chain 4 |\u001b[34m██████████\u001b[0m| 00:00 Sampling completed"
     ]
    },
    {
     "name": "stdout",
     "output_type": "stream",
     "text": [
      "                                                                                                                                                                                                                                                                                                                                "
     ]
    },
    {
     "name": "stderr",
     "output_type": "stream",
     "text": [
      "\n",
      "INFO:cmdstanpy:CmdStan done processing.\n"
     ]
    },
    {
     "name": "stdout",
     "output_type": "stream",
     "text": [
      "\n",
      "         lp__  accept_stat__  stepsize__  treedepth__  n_leapfrog__  \\\n",
      "0    -5.21469       0.954424    0.880042          1.0           1.0   \n",
      "1    -4.98882       1.000000    0.880042          1.0           1.0   \n",
      "2    -4.80364       1.000000    0.880042          2.0           3.0   \n",
      "3    -4.81948       0.833662    0.880042          2.0           3.0   \n",
      "4    -4.81948       0.859867    0.880042          1.0           3.0   \n",
      "...       ...            ...         ...          ...           ...   \n",
      "3995 -7.67282       0.613829    1.051480          2.0           3.0   \n",
      "3996 -7.69514       0.996081    1.051480          1.0           1.0   \n",
      "3997 -5.03680       1.000000    1.051480          2.0           3.0   \n",
      "3998 -5.08994       0.986202    1.051480          1.0           1.0   \n",
      "3999 -4.99565       1.000000    1.051480          1.0           1.0   \n",
      "\n",
      "      divergent__  energy__     theta  \n",
      "0             0.0   5.22955  0.734843  \n",
      "1             0.0   5.17632  0.687657  \n",
      "2             0.0   4.94726  0.530817  \n",
      "3             0.0   5.81707  0.623077  \n",
      "4             0.0   5.40758  0.623077  \n",
      "...           ...       ...       ...  \n",
      "3995          0.0   8.20586  0.168700  \n",
      "3996          0.0   8.40207  0.167595  \n",
      "3997          0.0   7.24983  0.699576  \n",
      "3998          0.0   5.15063  0.711340  \n",
      "3999          0.0   5.10767  0.689443  \n",
      "\n",
      "[4000 rows x 8 columns]\n",
      "         lp__  accept_stat__  stepsize__  treedepth__  n_leapfrog__  \\\n",
      "0    -4.87159       0.896256    0.985625          2.0           3.0   \n",
      "1    -5.49424       0.943096    0.985625          2.0           3.0   \n",
      "2    -4.88814       1.000000    0.985625          2.0           3.0   \n",
      "3    -4.94750       0.987019    0.985625          1.0           1.0   \n",
      "4    -4.94750       0.888326    0.985625          2.0           3.0   \n",
      "...       ...            ...         ...          ...           ...   \n",
      "3995 -5.41312       0.925506    1.024630          2.0           3.0   \n",
      "3996 -4.78339       1.000000    1.024630          1.0           3.0   \n",
      "3997 -4.89841       0.971704    1.024630          1.0           3.0   \n",
      "3998 -5.26171       0.964855    1.024630          2.0           3.0   \n",
      "3999 -4.80087       1.000000    1.024630          2.0           3.0   \n",
      "\n",
      "      divergent__  energy__     theta  \n",
      "0             0.0   5.70726  0.649581  \n",
      "1             0.0   5.50279  0.349618  \n",
      "2             0.0   5.36168  0.656161  \n",
      "3             0.0   4.95968  0.676066  \n",
      "4             0.0   5.96226  0.676066  \n",
      "...           ...       ...       ...  \n",
      "3995          0.0   5.41312  0.361933  \n",
      "3996          0.0   5.32499  0.585943  \n",
      "3997          0.0   4.90480  0.659971  \n",
      "3998          0.0   5.26234  0.742591  \n",
      "3999          0.0   5.20669  0.533315  \n",
      "\n",
      "[4000 rows x 8 columns]\n"
     ]
    },
    {
     "data": {
      "image/png": "[encoded data removed]",
      "text/plain": [
       "<Figure size 432x288 with 2 Axes>"
      ]
     },
     "metadata": {
      "needs_background": "light"
     },
     "output_type": "display_data"
    },
    {
     "name": "stdout",
     "output_type": "stream",
     "text": [
      "Code 2:\n",
      "5%: 0.26\n",
      "50%: 0.58\n",
      "95%: 0.85\n",
      "\n",
      "Code 3:\n",
      "5%: 0.26\n",
      "50%: 0.57\n",
      "95%: 0.84\n"
     ]
    }
   ],
   "source": [
    "# 1. Observe how constraints on data behave for code_2 and code_3\n",
    "model1 = CmdStanModel(stan_file=\"code_2.stan\")\n",
    "model2 = CmdStanModel(stan_file=\"code_3.stan\")\n",
    "\n",
    "data = {\n",
    "    \"N\": 5,\n",
    "    \"y\": [0,1,1,0,1]\n",
    "}\n",
    "\n",
    "fit1 = model1.sample(data)\n",
    "fit2 = model2.sample(data)\n",
    "\n",
    "df1 = fit1.draws_pd()\n",
    "df2 = fit2.draws_pd()\n",
    "\n",
    "print(df1)\n",
    "print(df2)\n",
    "\n",
    "summary1 = fit1.summary()\n",
    "summary2 = fit2.summary()\n",
    "\n",
    "plt.subplot(2, 1, 1)\n",
    "df1[\"theta\"].plot.hist(bins=30)\n",
    "plt.title(\"Code 2\")\n",
    "plt.axvline(summary1[\"5%\"][\"theta\"],color='r')\n",
    "plt.axvline(summary1[\"50%\"][\"theta\"],color='r')\n",
    "plt.axvline(summary1[\"95%\"][\"theta\"],color='r')\n",
    "\n",
    "plt.subplot(2,1,2)\n",
    "df2[\"theta\"].plot.hist(bins=30)\n",
    "plt.title(\"Code 3\")\n",
    "plt.axvline(summary2[\"5%\"][\"theta\"],color='r')\n",
    "plt.axvline(summary2[\"50%\"][\"theta\"],color='r')\n",
    "plt.axvline(summary2[\"95%\"][\"theta\"],color='r')\n",
    "plt.show()\n",
    "\n",
    "print(\"Code 2:\\n5%: \" + str(summary1[\"5%\"][\"theta\"]) + \"\\n50%: \" + str(summary1[\"50%\"][\"theta\"]) + \"\\n95%: \" + str(summary1[\"95%\"][\"theta\"]))\n",
    "print(\"\\nCode 3:\\n5%: \" + str(summary2[\"5%\"][\"theta\"]) + \"\\n50%: \" + str(summary2[\"50%\"][\"theta\"]) + \"\\n95%: \" + str(summary2[\"95%\"][\"theta\"]))\n",
    "\n"
   ]
  },
  {
   "cell_type": "markdown",
   "metadata": {},
   "source": [
    "Excercise 3 - constraints on the parameters"
   ]
  },
  {
   "cell_type": "code",
   "execution_count": 23,
   "metadata": {},
   "outputs": [
    {
     "name": "stderr",
     "output_type": "stream",
     "text": [
      "INFO:cmdstanpy:found newer exe file, not recompiling\n",
      "INFO:cmdstanpy:found newer exe file, not recompiling\n",
      "INFO:cmdstanpy:CmdStan start processing\n",
      "chain 1 |\u001b[33m          \u001b[0m| 00:00 Status\n",
      "\u001b[A\n",
      "\n",
      "chain 1 |\u001b[34m█████████ \u001b[0m| 00:00 Iteration: 1700 / 2000 [ 85%]  (Sampling)\n",
      "\u001b[A\n",
      "\n",
      "chain 1 |\u001b[34m██████████\u001b[0m| 00:00 Sampling completed                       \n",
      "chain 2 |\u001b[34m██████████\u001b[0m| 00:00 Sampling completed                       \n",
      "chain 3 |\u001b[34m██████████\u001b[0m| 00:00 Sampling completed                       \n",
      "chain 4 |\u001b[34m██████████\u001b[0m| 00:00 Sampling completed                       "
     ]
    },
    {
     "name": "stdout",
     "output_type": "stream",
     "text": [
      "                                                                                                                                                                                                                                                                                                                                "
     ]
    },
    {
     "name": "stderr",
     "output_type": "stream",
     "text": [
      "\n",
      "INFO:cmdstanpy:CmdStan done processing.\n"
     ]
    },
    {
     "name": "stdout",
     "output_type": "stream",
     "text": [
      "\n"
     ]
    },
    {
     "name": "stderr",
     "output_type": "stream",
     "text": [
      "INFO:cmdstanpy:CmdStan start processing\n",
      "chain 1 |\u001b[33m          \u001b[0m| 00:00 Status\n",
      "\u001b[A\n",
      "\n",
      "chain 1 |\u001b[34m██████████\u001b[0m| 00:00 Sampling completed\n",
      "chain 2 |\u001b[34m██████████\u001b[0m| 00:00 Sampling completed\n",
      "\n",
      "chain 3 |\u001b[34m██████████\u001b[0m| 00:00 Sampling completed\n",
      "\n",
      "\n",
      "chain 4 |\u001b[34m██████████\u001b[0m| 00:00 Sampling completed"
     ]
    },
    {
     "name": "stdout",
     "output_type": "stream",
     "text": [
      "                                                                                                                                                                                                                                                                                                                                "
     ]
    },
    {
     "name": "stderr",
     "output_type": "stream",
     "text": [
      "\n",
      "INFO:cmdstanpy:CmdStan done processing.\n"
     ]
    },
    {
     "name": "stdout",
     "output_type": "stream",
     "text": [
      "\n",
      "DF1: \n",
      "          lp__  accept_stat__  stepsize__  treedepth__  n_leapfrog__  \\\n",
      "0    -1.163530       0.306684    0.330802          1.0           2.0   \n",
      "1    -1.570840       0.665128    0.330802          1.0           3.0   \n",
      "2    -2.237130       0.665208    0.330802          1.0           3.0   \n",
      "3    -1.369710       0.999998    0.330802          3.0           7.0   \n",
      "4    -1.091240       0.999325    0.330802          1.0           3.0   \n",
      "...        ...            ...         ...          ...           ...   \n",
      "3995 -1.042000       0.666667    0.446859          1.0           3.0   \n",
      "3996 -0.729674       0.500000    0.446859          1.0           2.0   \n",
      "3997 -0.714386       1.000000    0.446859          1.0           1.0   \n",
      "3998 -1.429660       0.966685    0.446859          2.0           5.0   \n",
      "3999 -2.341020       0.995162    0.446859          2.0           5.0   \n",
      "\n",
      "      divergent__  energy__     theta  \n",
      "0             1.0  3.373730  0.912515  \n",
      "1             1.0  2.015150  1.310800  \n",
      "2             1.0  3.408520  1.920180  \n",
      "3             0.0  2.256040  1.118090  \n",
      "4             0.0  1.555270  0.837537  \n",
      "...           ...       ...       ...  \n",
      "3995          1.0  2.183120  0.785245  \n",
      "3996          1.0  1.495100  0.400960  \n",
      "3997          0.0  0.729449  0.375734  \n",
      "3998          0.0  1.782620  1.176180  \n",
      "3999          0.0  2.704620  2.012720  \n",
      "\n",
      "[4000 rows x 8 columns]\n",
      "DF2: \n",
      "         lp__  accept_stat__  stepsize__  treedepth__  n_leapfrog__  \\\n",
      "0    -1.25004       0.999741    0.853463          2.0           7.0   \n",
      "1    -1.48092       0.965765    0.853463          2.0           3.0   \n",
      "2    -1.48092       0.271183    0.853463          3.0           7.0   \n",
      "3    -1.48092       0.088861    0.853463          1.0           1.0   \n",
      "4    -1.41092       0.866187    0.853463          1.0           3.0   \n",
      "...       ...            ...         ...          ...           ...   \n",
      "3995 -1.25089       0.931142    0.705043          2.0           3.0   \n",
      "3996 -1.25165       0.997895    0.705043          2.0           3.0   \n",
      "3997 -1.38703       0.982806    0.705043          2.0           3.0   \n",
      "3998 -1.37410       1.000000    0.705043          2.0           3.0   \n",
      "3999 -2.04767       0.905418    0.705043          1.0           3.0   \n",
      "\n",
      "      divergent__  energy__     theta  \n",
      "0             0.0   1.58796  1.008270  \n",
      "1             0.0   1.60625  1.736750  \n",
      "2             0.0   3.33022  1.736750  \n",
      "3             0.0   3.29921  1.736750  \n",
      "4             0.0   2.08261  0.574528  \n",
      "...           ...       ...       ...  \n",
      "3995          0.0   2.11179  0.962804  \n",
      "3996          0.0   1.26719  0.949421  \n",
      "3997          0.0   1.39056  0.601809  \n",
      "3998          0.0   1.39921  0.617982  \n",
      "3999          0.0   2.33609  0.249388  \n",
      "\n",
      "[4000 rows x 8 columns]\n",
      "DIAGNOSE FIT 1:\n",
      "Processing csv files: C:\\Users\\xyz\\AppData\\Local\\Temp\\tmpnvvrtuzz\\code_4-20220605145045_1.csv, C:\\Users\\xyz\\AppData\\Local\\Temp\\tmpnvvrtuzz\\code_4-20220605145045_2.csv, C:\\Users\\xyz\\AppData\\Local\\Temp\\tmpnvvrtuzz\\code_4-20220605145045_3.csv, C:\\Users\\xyz\\AppData\\Local\\Temp\\tmpnvvrtuzz\\code_4-20220605145045_4.csv\n",
      "\n",
      "Checking sampler transitions treedepth.\n",
      "Treedepth satisfactory for all transitions.\n",
      "\n",
      "Checking sampler transitions for divergences.\n",
      "1523 of 4000 (38.08%) transitions ended with a divergence.\n",
      "These divergent transitions indicate that HMC is not fully able to explore the posterior distribution.\n",
      "Try increasing adapt delta closer to 1.\n",
      "If this doesn't remove all divergences, try to reparameterize the model.\n",
      "\n",
      "Checking E-BFMI - sampler transitions HMC potential energy.\n",
      "E-BFMI satisfactory.\n",
      "\n",
      "Effective sample size satisfactory.\n",
      "\n",
      "Split R-hat values satisfactory all parameters.\n",
      "\n",
      "Processing complete.\n",
      "\n",
      "DIAGNOSE FIT 2:\n",
      "Processing csv files: C:\\Users\\xyz\\AppData\\Local\\Temp\\tmpnvvrtuzz\\code_5-20220605145045_1.csv, C:\\Users\\xyz\\AppData\\Local\\Temp\\tmpnvvrtuzz\\code_5-20220605145045_2.csv, C:\\Users\\xyz\\AppData\\Local\\Temp\\tmpnvvrtuzz\\code_5-20220605145045_3.csv, C:\\Users\\xyz\\AppData\\Local\\Temp\\tmpnvvrtuzz\\code_5-20220605145045_4.csv\n",
      "\n",
      "Checking sampler transitions treedepth.\n",
      "Treedepth satisfactory for all transitions.\n",
      "\n",
      "Checking sampler transitions for divergences.\n",
      "No divergent transitions found.\n",
      "\n",
      "Checking E-BFMI - sampler transitions HMC potential energy.\n",
      "E-BFMI satisfactory.\n",
      "\n",
      "Effective sample size satisfactory.\n",
      "\n",
      "Split R-hat values satisfactory all parameters.\n",
      "\n",
      "Processing complete, no problems detected.\n",
      "\n"
     ]
    },
    {
     "data": {
      "image/png": "[encoded data removed]",
      "text/plain": [
       "<Figure size 432x288 with 4 Axes>"
      ]
     },
     "metadata": {
      "needs_background": "light"
     },
     "output_type": "display_data"
    }
   ],
   "source": [
    "# from cmdstanpy import CmdStanModel\n",
    "# import matplotlib.pyplot as plt\n",
    "from scipy.stats import gamma\n",
    "# import numpy as np\n",
    "\n",
    "# 1. Constraints in parameters behave more subtely. We are infering theta without data from its prior.\n",
    "# 2. Please see diagnostic messages from code_4 and how samples from it compare to the probability distribution.\n",
    "# 3. Verify what changes if constraints are added as in code_5\n",
    "\n",
    "model1 = CmdStanModel(stan_file=\"code_4.stan\")\n",
    "model2 = CmdStanModel(stan_file=\"code_5.stan\")\n",
    "\n",
    "fit1 = model1.sample()\n",
    "fit2 = model2.sample()\n",
    "\n",
    "df1 = fit1.draws_pd()\n",
    "df2 = fit2.draws_pd()\n",
    "\n",
    "print(\"DF1: \")\n",
    "print(df1)\n",
    "\n",
    "print(\"DF2: \")\n",
    "print(df2)\n",
    "\n",
    "print(\"DIAGNOSE FIT 1:\" )\n",
    "print(fit1.diagnose())\n",
    "\n",
    "print(\"DIAGNOSE FIT 2:\" )\n",
    "print(fit2.diagnose())\n",
    "\n",
    "\n",
    "#Probability density function\n",
    "x = np.linspace(0,7,1000)\n",
    "#a = alpha; scale = 1/beta\n",
    "y = gamma.pdf(x, a=1.25, scale=1/1.25)\n",
    "\n",
    "\n",
    "plt.subplot(2,2,3)\n",
    "plt.plot(x, y)\n",
    "plt.title(\"Probability distribution\")\n",
    "\n",
    "plt.subplot(2,2,1)\n",
    "df1[\"theta\"].hist(bins=50)\n",
    "plt.xlim = 7\n",
    "plt.title(\"Stan_4 code\")\n",
    "\n",
    "plt.subplot(2,2,2)\n",
    "df2[\"theta\"].hist(bins=50)\n",
    "plt.xlim = 7\n",
    "plt.title(\"Stan_5 code\")\n",
    "\n",
    "plt.subplot(2,2,4)\n",
    "plt.plot(x,y)\n",
    "plt.title(\"Probability distribution\")\n",
    "plt.show()"
   ]
  },
  {
   "cell_type": "markdown",
   "metadata": {},
   "source": [
    "Excercise 4 - functions and different functionalities of stan"
   ]
  },
  {
   "cell_type": "code",
   "execution_count": 29,
   "metadata": {},
   "outputs": [
    {
     "name": "stderr",
     "output_type": "stream",
     "text": [
      "INFO:cmdstanpy:found newer exe file, not recompiling\n",
      "INFO:cmdstanpy:CmdStan start processing\n",
      "chain 1 |\u001b[33m          \u001b[0m| 00:00 Status\n",
      "\u001b[A\n",
      "\n",
      "chain 1 |\u001b[34m██████████\u001b[0m| 00:00 Sampling completed\n",
      "chain 2 |\u001b[34m██████████\u001b[0m| 00:00 Sampling completed\n",
      "chain 3 |\u001b[34m██████████\u001b[0m| 00:00 Sampling completed\n",
      "chain 4 |\u001b[34m██████████\u001b[0m| 00:00 Sampling completed"
     ]
    },
    {
     "name": "stdout",
     "output_type": "stream",
     "text": [
      "                                                                                                                                                                                                                                                                                                                                "
     ]
    },
    {
     "name": "stderr",
     "output_type": "stream",
     "text": [
      "\n",
      "INFO:cmdstanpy:CmdStan done processing.\n"
     ]
    },
    {
     "name": "stdout",
     "output_type": "stream",
     "text": [
      "\n",
      "      lp__  accept_stat__    sigma\n",
      "0      0.0            0.0  2.71757\n",
      "1      0.0            0.0  2.71757\n",
      "2      0.0            0.0  2.71757\n",
      "3      0.0            0.0  2.71757\n",
      "4      0.0            0.0  2.71757\n",
      "...    ...            ...      ...\n",
      "3995   0.0            0.0  2.71757\n",
      "3996   0.0            0.0  2.71757\n",
      "3997   0.0            0.0  2.71757\n",
      "3998   0.0            0.0  2.71757\n",
      "3999   0.0            0.0  2.71757\n",
      "\n",
      "[4000 rows x 3 columns]\n",
      "(F+L)/2 =  7.0\n"
     ]
    }
   ],
   "source": [
    "# 1. Stan outside of sampling allows for certain computational tools. In particular equation solving.\n",
    "# 2. Using code_6 find the standard deviation of half_normal distribution, such that with 99% probability samples from it will be less than (F+L)/2.\n",
    "\n",
    "F = len(\"Maciej\")\n",
    "L = len(\"Brudzisz\")\n",
    "\n",
    "model = CmdStanModel(stan_file=\"code_6.stan\")\n",
    "\n",
    "data = {\n",
    "    \"y_guess\": [2],\n",
    "    \"theta\": [(F+L)/2]\n",
    "}\n",
    "\n",
    "fit = model.sample(data)\n",
    "\n",
    "df = fit.draws_pd()\n",
    "print(df)\n",
    "print(\"(F+L)/2 = \", str((F+L)/2))"
   ]
  },
  {
   "cell_type": "markdown",
   "metadata": {},
   "source": [
    "Excercise 5 - different methods of defining models"
   ]
  },
  {
   "cell_type": "code",
   "execution_count": 33,
   "metadata": {},
   "outputs": [
    {
     "name": "stderr",
     "output_type": "stream",
     "text": [
      "INFO:cmdstanpy:found newer exe file, not recompiling\n",
      "INFO:cmdstanpy:found newer exe file, not recompiling\n",
      "INFO:cmdstanpy:found newer exe file, not recompiling\n",
      "INFO:cmdstanpy:CmdStan start processing\n",
      "chain 1 |\u001b[33m          \u001b[0m| 00:00 Status\n",
      "\u001b[A\n",
      "\n",
      "chain 1 |\u001b[33m███▏      \u001b[0m| 00:00 Iteration:  500 / 2000 [ 25%]  (Warmup)\n",
      "\u001b[A\n",
      "\n",
      "\u001b[A\u001b[A\n",
      "chain 1 |\u001b[34m████████▏ \u001b[0m| 00:00 Iteration: 1500 / 2000 [ 75%]  (Sampling)\n",
      "\n",
      "chain 1 |\u001b[34m██████████\u001b[0m| 00:00 Sampling completed                       \n",
      "chain 2 |\u001b[34m██████████\u001b[0m| 00:00 Sampling completed                       \n",
      "chain 3 |\u001b[34m██████████\u001b[0m| 00:00 Sampling completed                       \n",
      "\n",
      "\n",
      "chain 4 |\u001b[34m██████████\u001b[0m| 00:00 Sampling completed"
     ]
    },
    {
     "name": "stdout",
     "output_type": "stream",
     "text": [
      "                                                                                                                                                                                                                                                                                                                                "
     ]
    },
    {
     "name": "stderr",
     "output_type": "stream",
     "text": [
      "\n",
      "INFO:cmdstanpy:CmdStan done processing.\n",
      "INFO:cmdstanpy:CmdStan start processing\n"
     ]
    },
    {
     "name": "stdout",
     "output_type": "stream",
     "text": [
      "\n"
     ]
    },
    {
     "name": "stderr",
     "output_type": "stream",
     "text": [
      "chain 1 |\u001b[33m          \u001b[0m| 00:00 Status\n",
      "\u001b[A\n",
      "\n",
      "chain 1 |\u001b[34m█████▉    \u001b[0m| 00:00 Iteration: 1001 / 2000 [ 50%]  (Sampling)\n",
      "\u001b[A\n",
      "\n",
      "chain 1 |\u001b[34m██████████\u001b[0m| 00:00 Sampling completed                       \n",
      "chain 2 |\u001b[34m██████████\u001b[0m| 00:00 Sampling completed                       \n",
      "chain 3 |\u001b[34m██████████\u001b[0m| 00:00 Sampling completed                       \n",
      "chain 4 |\u001b[34m██████████\u001b[0m| 00:00 Sampling completed                       "
     ]
    },
    {
     "name": "stdout",
     "output_type": "stream",
     "text": [
      "                                                                                                                                                                                                                                                                                                                                "
     ]
    },
    {
     "name": "stderr",
     "output_type": "stream",
     "text": [
      "\n",
      "INFO:cmdstanpy:CmdStan done processing.\n",
      "INFO:cmdstanpy:CmdStan start processing\n"
     ]
    },
    {
     "name": "stdout",
     "output_type": "stream",
     "text": [
      "\n"
     ]
    },
    {
     "name": "stderr",
     "output_type": "stream",
     "text": [
      "chain 1 |\u001b[33m          \u001b[0m| 00:00 Status\n",
      "\u001b[A\n",
      "\n",
      "\u001b[A\u001b[A\n",
      "\u001b[A\n",
      "\n",
      "chain 1 |\u001b[33m███▋      \u001b[0m| 00:00 Iteration:  600 / 2000 [ 30%]  (Warmup)\n",
      "\u001b[A\n",
      "\n",
      "chain 1 |\u001b[34m██████████\u001b[0m| 00:00 Sampling completed                       \n",
      "chain 2 |\u001b[34m██████████\u001b[0m| 00:00 Sampling completed                       \n",
      "chain 3 |\u001b[34m██████████\u001b[0m| 00:00 Sampling completed                       \n",
      "chain 4 |\u001b[34m██████████\u001b[0m| 00:00 Sampling completed                       "
     ]
    },
    {
     "name": "stdout",
     "output_type": "stream",
     "text": [
      "                                                                                                                                                                                                                                                                                                                                "
     ]
    },
    {
     "name": "stderr",
     "output_type": "stream",
     "text": [
      "\n",
      "INFO:cmdstanpy:CmdStan done processing.\n"
     ]
    },
    {
     "name": "stdout",
     "output_type": "stream",
     "text": [
      "\n"
     ]
    },
    {
     "data": {
      "image/png": "[encoded data removed]",
      "text/plain": [
       "<Figure size 432x288 with 1 Axes>"
      ]
     },
     "metadata": {
      "needs_background": "light"
     },
     "output_type": "display_data"
    }
   ],
   "source": [
    "# 1. Implement all the examples\n",
    "# 2. Use them to generate distributuion for N=F.\n",
    "\n",
    "from msilib.schema import File\n",
    "from cmdstanpy import CmdStanModel\n",
    "import matplotlib.pyplot as plt\n",
    "\n",
    "F = len(\"Maciej\")\n",
    "\n",
    "model1 = CmdStanModel(stan_file=\"code_7.stan\")\n",
    "model2 = CmdStanModel(stan_file=\"code_8.stan\")\n",
    "model3 = CmdStanModel(stan_file=\"code_9.stan\")\n",
    "\n",
    "fit1 = model1.sample(data={\"N\": F})\n",
    "fit2 = model2.sample(data={\"N\": F})\n",
    "fit3 = model3.sample(data={\"N\": F})\n",
    "\n",
    "df1 = fit1.draws_pd()\n",
    "df2 = fit2.draws_pd()\n",
    "df3 = fit3.draws_pd()\n",
    "\n",
    "bins = 30\n",
    "alpha = 0.5\n",
    "\n",
    "df1[\"theta\"].hist(bins=bins, alpha=alpha)\n",
    "df2[\"theta\"].hist(bins=bins, alpha=alpha)\n",
    "df3[\"theta\"].hist(bins=bins, alpha=alpha)\n",
    "plt.legend([\"Stan_7\", \"Stan_8\", \"Stan_9\"])\n",
    "plt.show()\n",
    "\n",
    "fit1.save_csvfiles(\"samples\")\n",
    "fit2.save_csvfiles(\"samples\")\n",
    "fit3.save_csvfiles(\"samples\")"
   ]
  },
  {
   "cell_type": "markdown",
   "metadata": {},
   "source": [
    "Excercise 6 - generated quantities post sampling"
   ]
  },
  {
   "cell_type": "code",
   "execution_count": 35,
   "metadata": {},
   "outputs": [
    {
     "name": "stderr",
     "output_type": "stream",
     "text": [
      "INFO:cmdstanpy:found newer exe file, not recompiling\n",
      "INFO:cmdstanpy:Chain [1] start processing\n",
      "INFO:cmdstanpy:Chain [2] start processing\n",
      "INFO:cmdstanpy:Chain [3] start processing\n",
      "INFO:cmdstanpy:Chain [4] start processing\n",
      "INFO:cmdstanpy:Chain [1] done processing\n",
      "INFO:cmdstanpy:Chain [4] done processing\n",
      "INFO:cmdstanpy:Chain [3] done processing\n",
      "INFO:cmdstanpy:Chain [2] done processing\n",
      "INFO:cmdstanpy:Chain [1] start processing\n",
      "INFO:cmdstanpy:Chain [2] start processing\n",
      "INFO:cmdstanpy:Chain [3] start processing\n",
      "INFO:cmdstanpy:Chain [4] start processing\n",
      "INFO:cmdstanpy:Chain [1] done processing\n",
      "INFO:cmdstanpy:Chain [3] done processing\n",
      "INFO:cmdstanpy:Chain [2] done processing\n",
      "INFO:cmdstanpy:Chain [4] done processing\n",
      "INFO:cmdstanpy:Chain [1] start processing\n",
      "INFO:cmdstanpy:Chain [2] start processing\n",
      "INFO:cmdstanpy:Chain [3] start processing\n",
      "INFO:cmdstanpy:Chain [4] start processing\n",
      "INFO:cmdstanpy:Chain [2] done processing\n",
      "INFO:cmdstanpy:Chain [3] done processing\n",
      "INFO:cmdstanpy:Chain [1] done processing\n",
      "INFO:cmdstanpy:Chain [4] done processing\n"
     ]
    },
    {
     "data": {
      "image/png": "[encoded data removed]",
      "text/plain": [
       "<Figure size 432x288 with 3 Axes>"
      ]
     },
     "metadata": {
      "needs_background": "light"
     },
     "output_type": "display_data"
    }
   ],
   "source": [
    "# 1. Implement code_10.stan\n",
    "# 2. Using generate_quantities() method use samples from previous excercises and and analyze mean of .\n",
    "\n",
    "F = len(\"Maciej\")\n",
    "data = {\"N\": F}\n",
    "\n",
    "model = CmdStanModel(stan_file=\"code_10.stan\")\n",
    "\n",
    "previous_samples1 = [\"samples/sample1_1.csv\", \"samples/sample1_2.csv\", \"samples/sample1_3.csv\", \"samples/sample1_4.csv\"]\n",
    "previous_samples2 = [\"samples/sample2_1.csv\", \"samples/sample2_2.csv\", \"samples/sample2_3.csv\", \"samples/sample2_4.csv\"]\n",
    "previous_samples3 = [\"samples/sample3_1.csv\", \"samples/sample3_2.csv\", \"samples/sample3_3.csv\", \"samples/sample3_4.csv\"]\n",
    "\n",
    "fit1 = model.generate_quantities(data=data, mcmc_sample=previous_samples1)\n",
    "fit2 = model.generate_quantities(data=data, mcmc_sample=previous_samples2)\n",
    "fit3 = model.generate_quantities(data=data, mcmc_sample=previous_samples3)\n",
    "\n",
    "df1 = fit1.draws_pd()\n",
    "df2 = fit2.draws_pd()\n",
    "df3 = fit3.draws_pd()\n",
    "\n",
    "bins = 50\n",
    "\n",
    "plt.subplot(3,1,1)\n",
    "df1[\"mean_y\"].hist(bins=bins)\n",
    "\n",
    "plt.subplot(3,1,2)\n",
    "df2[\"mean_y\"].hist(bins=bins)\n",
    "\n",
    "plt.subplot(3,1,3)\n",
    "df3[\"mean_y\"].hist(bins=bins)\n",
    "\n",
    "plt.suptitle(\"mean_y\")\n",
    "plt.show()"
   ]
  }
 ],
 "metadata": {
  "interpreter": {
   "hash": "82a69a1f921ac622e4ddaccb1eb48a4a0f641349702ff854c62c93a6d01047e9"
  },
  "kernelspec": {
   "display_name": "Python 3.10.4 ('stan_env')",
   "language": "python",
   "name": "python3"
  },
  "language_info": {
   "codemirror_mode": {
    "name": "ipython",
    "version": 3
   },
   "file_extension": ".py",
   "mimetype": "text/x-python",
   "name": "python",
   "nbconvert_exporter": "python",
   "pygments_lexer": "ipython3",
   "version": "3.10.4"
  },
  "orig_nbformat": 4
 },
 "nbformat": 4,
 "nbformat_minor": 2
}
