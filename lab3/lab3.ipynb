{
 "cells": [
  {
   "cell_type": "markdown",
   "metadata": {},
   "source": [
    "Excercise 1 - Divergence problem"
   ]
  },
  {
   "cell_type": "code",
   "execution_count": 1,
   "metadata": {},
   "outputs": [
    {
     "name": "stderr",
     "output_type": "stream",
     "text": [
      "c:\\Users\\xyz\\anaconda3\\envs\\stan_env\\lib\\site-packages\\tqdm\\auto.py:22: TqdmWarning: IProgress not found. Please update jupyter and ipywidgets. See https://ipywidgets.readthedocs.io/en/stable/user_install.html\n",
      "  from .autonotebook import tqdm as notebook_tqdm\n",
      "INFO:cmdstanpy:found newer exe file, not recompiling\n",
      "INFO:cmdstanpy:CmdStan start processing\n",
      "chain 1 |\u001b[33m          \u001b[0m| 00:00 Status\n",
      "\u001b[A\n",
      "\n",
      "chain 1 |\u001b[34m███████▎  \u001b[0m| 00:00 Iteration: 1300 / 2000 [ 65%]  (Sampling)\n",
      "\u001b[A\n",
      "\n",
      "chain 1 |\u001b[34m██████████\u001b[0m| 00:00 Sampling completed                       \n",
      "chain 2 |\u001b[34m██████████\u001b[0m| 00:00 Sampling completed                       \n",
      "chain 3 |\u001b[34m██████████\u001b[0m| 00:00 Sampling completed                       \n",
      "chain 4 |\u001b[34m██████████\u001b[0m| 00:00 Sampling completed                       "
     ]
    },
    {
     "name": "stdout",
     "output_type": "stream",
     "text": [
      "                                                                                                                                                                                                                                                                                                                                "
     ]
    },
    {
     "name": "stderr",
     "output_type": "stream",
     "text": [
      "\n",
      "INFO:cmdstanpy:CmdStan done processing.\n",
      "INFO:cmdstanpy:CmdStan start processing\n"
     ]
    },
    {
     "name": "stdout",
     "output_type": "stream",
     "text": [
      "\n"
     ]
    },
    {
     "name": "stderr",
     "output_type": "stream",
     "text": [
      "chain 1 |\u001b[33m          \u001b[0m| 00:00 Status\n",
      "\u001b[A\n",
      "\n",
      "chain 1 |\u001b[34m████████▋ \u001b[0m| 00:00 Iteration: 1600 / 2000 [ 80%]  (Sampling)\n",
      "\u001b[A\n",
      "\n",
      "chain 1 |\u001b[34m██████████\u001b[0m| 00:00 Sampling completed                       \n",
      "chain 2 |\u001b[34m██████████\u001b[0m| 00:00 Sampling completed                       \n",
      "chain 3 |\u001b[34m██████████\u001b[0m| 00:00 Sampling completed                       \n",
      "chain 4 |\u001b[34m██████████\u001b[0m| 00:00 Sampling completed                       "
     ]
    },
    {
     "name": "stdout",
     "output_type": "stream",
     "text": [
      "                                                                                                                                                                                                                                                                                                                                "
     ]
    },
    {
     "name": "stderr",
     "output_type": "stream",
     "text": [
      "\n",
      "INFO:cmdstanpy:CmdStan done processing.\n"
     ]
    },
    {
     "name": "stdout",
     "output_type": "stream",
     "text": [
      "\n",
      "          lp__  accept_stat__  stepsize__  treedepth__  n_leapfrog__  \\\n",
      "0    -0.131680       0.863682    0.364907          2.0           3.0   \n",
      "1    -0.280039       0.965907    0.364907          1.0           1.0   \n",
      "2    -0.044544       0.981047    0.364907          2.0           7.0   \n",
      "3    -0.018847       0.951248    0.364907          3.0          13.0   \n",
      "4    -1.527530       0.186787    0.364907          2.0           3.0   \n",
      "...        ...            ...         ...          ...           ...   \n",
      "3995 -0.147625       0.987255    0.423111          3.0           7.0   \n",
      "3996 -2.288220       0.813789    0.423111          3.0           9.0   \n",
      "3997 -1.634000       0.986356    0.423111          3.0           7.0   \n",
      "3998 -0.862455       0.975620    0.423111          2.0           3.0   \n",
      "3999 -1.086800       0.989335    0.423111          2.0           3.0   \n",
      "\n",
      "      divergent__  energy__        mu     sigma  \n",
      "0             0.0  3.269360  0.070452  0.246070  \n",
      "1             0.0  0.285408  0.132906  0.247873  \n",
      "2             0.0  0.473098  0.005525  0.209628  \n",
      "3             0.0  0.077099 -0.055783  0.146474  \n",
      "4             0.0  1.905960 -0.323750  0.166565  \n",
      "...           ...       ...       ...       ...  \n",
      "3995          0.0  1.075540 -0.096664  0.523220  \n",
      "3996          0.0  6.274280 -1.348750  1.345010  \n",
      "3997          0.0  2.587620 -0.945492  1.397630  \n",
      "3998          0.0  1.958540 -0.604217  1.028510  \n",
      "3999          0.0  1.126210 -0.597056  1.274970  \n",
      "\n",
      "[4000 rows x 9 columns]\n",
      "         lp__  accept_stat__  stepsize__  treedepth__  n_leapfrog__  \\\n",
      "0    -52.2700       0.990235    0.742761          2.0           3.0   \n",
      "1    -52.2401       0.995346    0.742761          2.0           7.0   \n",
      "2    -52.4130       0.939194    0.742761          2.0           3.0   \n",
      "3    -53.0262       0.931871    0.742761          2.0           3.0   \n",
      "4    -53.8379       0.960530    0.742761          2.0           3.0   \n",
      "...       ...            ...         ...          ...           ...   \n",
      "3995 -52.3387       0.965180    0.930372          2.0           3.0   \n",
      "3996 -52.6673       0.865218    0.930372          1.0           3.0   \n",
      "3997 -52.5498       1.000000    0.930372          2.0           3.0   \n",
      "3998 -52.6003       0.906148    0.930372          2.0           3.0   \n",
      "3999 -54.1353       0.812618    0.930372          2.0           3.0   \n",
      "\n",
      "      divergent__  energy__        mu     sigma  \n",
      "0             0.0   52.5038 -0.007789  1.010070  \n",
      "1             0.0   52.3172 -0.035966  1.026710  \n",
      "2             0.0   52.7478  0.025136  1.030390  \n",
      "3             0.0   53.1692 -0.054588  1.113370  \n",
      "4             0.0   53.8807 -0.097639  1.152330  \n",
      "...           ...       ...       ...       ...  \n",
      "3995          0.0   52.8247 -0.055306  0.988730  \n",
      "3996          0.0   53.2851 -0.001895  1.084070  \n",
      "3997          0.0   52.7854  0.035569  1.049780  \n",
      "3998          0.0   53.4795 -0.101923  0.982342  \n",
      "3999          0.0   54.2644  0.013078  1.170670  \n",
      "\n",
      "[4000 rows x 9 columns]\n"
     ]
    },
    {
     "data": {
      "image/png": "[encoded data removed]",
      "text/plain": [
       "<Figure size 432x288 with 2 Axes>"
      ]
     },
     "metadata": {
      "needs_background": "light"
     },
     "output_type": "display_data"
    },
    {
     "data": {
      "image/png": "[encoded data removed]",
      "text/plain": [
       "<Figure size 432x288 with 2 Axes>"
      ]
     },
     "metadata": {
      "needs_background": "light"
     },
     "output_type": "display_data"
    }
   ],
   "source": [
    "from cmdstanpy import CmdStanModel\n",
    "import matplotlib.pyplot as plt\n",
    "import pandas as pd\n",
    "\n",
    "normal_csv = pd.read_csv('normal.csv', index_col=0, header=0)\n",
    "model = CmdStanModel(stan_file=\"stan1.stan\")\n",
    "\n",
    "data1 = {\n",
    "    \"N\": 1,\n",
    "    \"y\": [normal_csv['value'][0]]\n",
    "}\n",
    "\n",
    "data2 = {\n",
    "    \"N\": len(normal_csv['value']),\n",
    "    \"y\": normal_csv['value'].to_list()\n",
    "}\n",
    "\n",
    "fit1 = model.sample(data=data1)\n",
    "fit2 = model.sample(data=data2)\n",
    "\n",
    "df1 = fit1.draws_pd()\n",
    "df2 = fit2.draws_pd()\n",
    "print(df1)\n",
    "print(df2)\n",
    "\n",
    "bins = 70\n",
    "plt.figure(1)\n",
    "plt.subplot(2,1,1)\n",
    "df1[\"mu\"].hist(bins=bins)\n",
    "plt.title(\"mu\")\n",
    "\n",
    "plt.subplot(2,1,2)\n",
    "df1[\"sigma\"].hist(bins=bins)\n",
    "plt.title(\"sigma\")\n",
    "\n",
    "\n",
    "plt.figure(2)\n",
    "plt.subplot(2,1,1)\n",
    "df2[\"mu\"].hist(bins=bins)\n",
    "plt.title(\"mu\")\n",
    "\n",
    "plt.subplot(2,1,2)\n",
    "df2[\"sigma\"].hist(bins=bins)\n",
    "plt.title(\"sigma\")\n",
    "plt.show()\n",
    "\n",
    "# Conclusions:\n",
    "# The more observations there are, the wider range\n",
    "# of predictions and higher sigma\n"
   ]
  },
  {
   "cell_type": "markdown",
   "metadata": {},
   "source": [
    "Excercise 2 - Binominial example"
   ]
  },
  {
   "cell_type": "code",
   "execution_count": 4,
   "metadata": {},
   "outputs": [
    {
     "name": "stderr",
     "output_type": "stream",
     "text": [
      "INFO:cmdstanpy:found newer exe file, not recompiling\n",
      "INFO:cmdstanpy:CmdStan start processing\n",
      "chain 1 |\u001b[33m          \u001b[0m| 00:00 Status\n",
      "\u001b[A\n",
      "\n",
      "\u001b[A\u001b[A\n",
      "\u001b[A\n",
      "\n",
      "chain 1 |\u001b[34m██████████\u001b[0m| 00:00 Sampling completed\n",
      "chain 2 |\u001b[34m██████████\u001b[0m| 00:00 Sampling completed                       \n",
      "chain 3 |\u001b[34m██████████\u001b[0m| 00:00 Sampling completed                       \n",
      "chain 4 |\u001b[34m██████████\u001b[0m| 00:00 Sampling completed                       "
     ]
    },
    {
     "name": "stdout",
     "output_type": "stream",
     "text": [
      "                                                                                                                                                                                                                                                                                                                                "
     ]
    },
    {
     "name": "stderr",
     "output_type": "stream",
     "text": [
      "\n",
      "INFO:cmdstanpy:CmdStan done processing.\n"
     ]
    },
    {
     "name": "stdout",
     "output_type": "stream",
     "text": [
      "\n"
     ]
    },
    {
     "data": {
      "image/png": "[encoded data removed]",
      "text/plain": [
       "<Figure size 432x288 with 1 Axes>"
      ]
     },
     "metadata": {
      "needs_background": "light"
     },
     "output_type": "display_data"
    }
   ],
   "source": [
    "coin_csv = pd.read_csv('coin.csv', index_col=0, header=0)\n",
    "\n",
    "data = {\n",
    "    \"N\": len(coin_csv['Toss_Result']),\n",
    "    \"y\": coin_csv['Toss_Result'].to_list()\n",
    "}\n",
    "\n",
    "model = CmdStanModel(stan_file=\"stan2.stan\")\n",
    "fit = model.sample(data)\n",
    "df = fit.draws_pd()\n",
    "\n",
    "# print(df)\n",
    " \n",
    "bins = 50\n",
    "df[\"theta\"].hist(bins = bins)\n",
    "plt.title('Theta')\n",
    "plt.show()"
   ]
  },
  {
   "cell_type": "markdown",
   "metadata": {},
   "source": [
    "Excercise 3 - Predictive checks"
   ]
  },
  {
   "cell_type": "code",
   "execution_count": 6,
   "metadata": {},
   "outputs": [
    {
     "name": "stderr",
     "output_type": "stream",
     "text": [
      "INFO:cmdstanpy:found newer exe file, not recompiling\n",
      "INFO:cmdstanpy:CmdStan start processing\n",
      "chain 1 |\u001b[33m          \u001b[0m| 00:00 Status\n",
      "\u001b[A\n",
      "\n",
      "chain 1 |\u001b[34m██████▎   \u001b[0m| 00:00 Iteration: 1100 / 2000 [ 55%]  (Sampling)\n",
      "\u001b[A\n",
      "\n",
      "chain 1 |\u001b[34m██████████\u001b[0m| 00:00 Sampling completed                       \n",
      "chain 2 |\u001b[34m██████████\u001b[0m| 00:00 Sampling completed                       \n",
      "chain 3 |\u001b[34m██████████\u001b[0m| 00:00 Sampling completed                       \n",
      "chain 4 |\u001b[34m██████████\u001b[0m| 00:00 Sampling completed                       "
     ]
    },
    {
     "name": "stdout",
     "output_type": "stream",
     "text": [
      "                                                                                                                                                                                                                                                                                                                                "
     ]
    },
    {
     "name": "stderr",
     "output_type": "stream",
     "text": [
      "\n",
      "INFO:cmdstanpy:CmdStan done processing.\n"
     ]
    },
    {
     "name": "stdout",
     "output_type": "stream",
     "text": [
      "\n"
     ]
    }
   ],
   "source": [
    "model3 = CmdStanModel(stan_file='stan3.stan')\n",
    "sample3 = model3.sample({'N': len(normal_csv['value']), 'y': normal_csv['value'].to_list()})"
   ]
  },
  {
   "cell_type": "code",
   "execution_count": 7,
   "metadata": {},
   "outputs": [
    {
     "name": "stderr",
     "output_type": "stream",
     "text": [
      "INFO:cmdstanpy:found newer exe file, not recompiling\n",
      "INFO:cmdstanpy:found newer exe file, not recompiling\n",
      "INFO:cmdstanpy:CmdStan start processing\n",
      "chain 1 |\u001b[33m          \u001b[0m| 00:00 Status\n",
      "\u001b[A\n",
      "\n",
      "chain 1 |\u001b[34m█████▉    \u001b[0m| 00:00 Iteration: 1001 / 2000 [ 50%]  (Sampling)\n",
      "\u001b[A\n",
      "\n",
      "chain 1 |\u001b[34m██████████\u001b[0m| 00:00 Sampling completed                       \n",
      "chain 2 |\u001b[34m██████████\u001b[0m| 00:00 Sampling completed                       \n",
      "chain 3 |\u001b[34m██████████\u001b[0m| 00:00 Sampling completed                       \n",
      "chain 4 |\u001b[34m██████████\u001b[0m| 00:00 Sampling completed                       "
     ]
    },
    {
     "name": "stdout",
     "output_type": "stream",
     "text": [
      "                                                                                                                                                                                                                                                                                                                                "
     ]
    },
    {
     "name": "stderr",
     "output_type": "stream",
     "text": [
      "\n",
      "INFO:cmdstanpy:CmdStan done processing.\n"
     ]
    },
    {
     "name": "stdout",
     "output_type": "stream",
     "text": [
      "\n"
     ]
    },
    {
     "name": "stderr",
     "output_type": "stream",
     "text": [
      "INFO:cmdstanpy:CmdStan start processing\n",
      "chain 1 |\u001b[33m          \u001b[0m| 00:00 Status\n",
      "\u001b[A\n",
      "\n",
      "chain 1 |\u001b[34m█▊        \u001b[0m| 00:00 Iteration: 200 / 1000 [ 20%]  (Sampling)\n",
      "\u001b[A\n",
      "\n",
      "\u001b[A\u001b[A\n",
      "\n",
      "chain 1 |\u001b[34m████      \u001b[0m| 00:00 Iteration: 700 / 1000 [ 70%]  (Sampling)\n",
      "chain 1 |\u001b[34m██████████\u001b[0m| 00:00 Sampling completed                      \n",
      "chain 2 |\u001b[34m██████████\u001b[0m| 00:00 Sampling completed                      \n",
      "chain 3 |\u001b[34m██████████\u001b[0m| 00:00 Sampling completed                      \n",
      "chain 4 |\u001b[34m██████████\u001b[0m| 00:00 Sampling completed                      "
     ]
    },
    {
     "name": "stdout",
     "output_type": "stream",
     "text": [
      "                                                                                                                                                                                                                                                                                                                                "
     ]
    },
    {
     "name": "stderr",
     "output_type": "stream",
     "text": [
      "\n",
      "INFO:cmdstanpy:CmdStan done processing.\n"
     ]
    },
    {
     "name": "stdout",
     "output_type": "stream",
     "text": [
      "\n",
      "         lp__  accept_stat__  stepsize__  treedepth__  n_leapfrog__  \\\n",
      "0    -53.8533       0.967921    0.859270          2.0           3.0   \n",
      "1    -53.7283       1.000000    0.859270          2.0           3.0   \n",
      "2    -53.2074       0.995261    0.859270          3.0           7.0   \n",
      "3    -53.0848       0.998091    0.859270          3.0           7.0   \n",
      "4    -54.0397       0.946076    0.859270          2.0           3.0   \n",
      "...       ...            ...         ...          ...           ...   \n",
      "3995 -52.3491       0.966505    0.851572          2.0           3.0   \n",
      "3996 -53.8658       0.857166    0.851572          3.0           7.0   \n",
      "3997 -52.4917       1.000000    0.851572          2.0           3.0   \n",
      "3998 -53.6746       0.876017    0.851572          2.0           3.0   \n",
      "3999 -52.4997       0.986813    0.851572          2.0           3.0   \n",
      "\n",
      "      divergent__  energy__        mu     sigma  y_rep[1]  ...  y_rep[91]  \\\n",
      "0             0.0   54.1735  0.034697  0.910574 -0.709469  ...   0.821072   \n",
      "1             0.0   54.1570  0.061301  0.925425 -0.244995  ...  -0.482573   \n",
      "2             0.0   53.9982 -0.106132  1.112330 -0.304865  ...   0.984496   \n",
      "3             0.0   53.2941 -0.091399  1.109280  0.547734  ...  -0.864466   \n",
      "4             0.0   54.2287  0.011789  0.898960  2.088160  ...  -0.004773   \n",
      "...           ...       ...       ...       ...       ...  ...        ...   \n",
      "3995          0.0   52.7491 -0.064438  1.045480  0.043898  ...  -2.955300   \n",
      "3996          0.0   54.0264 -0.165699  0.941130 -0.807929  ...  -1.328630   \n",
      "3997          0.0   53.8506 -0.106515  1.014550 -1.587930  ...   0.245948   \n",
      "3998          0.0   54.1036 -0.191715  1.081490 -0.109229  ...   0.917595   \n",
      "3999          0.0   53.9954  0.039563  1.028030  0.979937  ...  -0.627200   \n",
      "\n",
      "      y_rep[92]  y_rep[93]  y_rep[94]  y_rep[95]  y_rep[96]  y_rep[97]  \\\n",
      "0     -1.074340   0.969080  -0.232427  -0.656478   2.305630  -0.947233   \n",
      "1      0.700753   0.008649  -0.409053   0.168129   1.593000   0.447624   \n",
      "2      0.067382   0.062303  -4.318280   1.838250   0.216214  -1.506640   \n",
      "3      0.630886   1.262830   0.815174   1.319350   0.227022   0.058889   \n",
      "4      1.258410   0.747707  -0.480646   0.462324   0.248552  -0.765536   \n",
      "...         ...        ...        ...        ...        ...        ...   \n",
      "3995  -0.073056   1.864740  -1.989010  -0.095088  -1.063170   0.767276   \n",
      "3996  -0.503775  -0.197071  -1.139970  -0.047760  -0.754558   0.296949   \n",
      "3997   0.157019  -0.420610  -1.952570  -0.643846   0.124516  -1.107560   \n",
      "3998  -1.353000   0.527720   0.119363  -1.188730   0.750046  -1.167860   \n",
      "3999  -1.720520   0.159352   0.725382  -1.301930  -0.372355  -0.421570   \n",
      "\n",
      "      y_rep[98]  y_rep[99]  y_rep[100]  \n",
      "0     -0.537394  -0.569357    0.912982  \n",
      "1     -0.006840   0.665104    0.758168  \n",
      "2     -0.303603   0.131443   -1.531440  \n",
      "3      0.033115  -1.361030   -1.622730  \n",
      "4      1.754520  -0.168292    0.614000  \n",
      "...         ...        ...         ...  \n",
      "3995   1.066690  -0.168487   -1.308470  \n",
      "3996   0.187251   0.118246   -0.995400  \n",
      "3997  -2.528850   1.243700   -1.259420  \n",
      "3998   1.766850  -0.496926    1.346530  \n",
      "3999  -1.453850  -0.516093    1.348470  \n",
      "\n",
      "[4000 rows x 109 columns]\n",
      "      lp__  accept_stat__        mu     sigma  y_prior[1]  y_prior[2]  \\\n",
      "0      0.0            0.0 -1.418680  0.985076   -0.967829   -2.706400   \n",
      "1      0.0            0.0 -1.482680  2.543820   -1.078930   -3.266700   \n",
      "2      0.0            0.0  0.564885  0.297443    0.171218    0.459870   \n",
      "3      0.0            0.0 -0.613034  0.450688   -1.141940   -0.596867   \n",
      "4      0.0            0.0 -0.684661  0.229321   -0.344320   -0.773111   \n",
      "...    ...            ...       ...       ...         ...         ...   \n",
      "3995   0.0            0.0  0.102959  1.591100   -1.967760    0.470063   \n",
      "3996   0.0            0.0  2.083450  0.120950    2.152690    2.101830   \n",
      "3997   0.0            0.0  1.211260  0.939766    0.988794    0.379959   \n",
      "3998   0.0            0.0  0.324537  1.348600    1.777840   -0.262792   \n",
      "3999   0.0            0.0  0.282864  0.216958    0.389209    0.343624   \n",
      "\n",
      "      y_prior[3]  y_prior[4]  y_prior[5]  y_prior[6]  ...  y_prior[91]  \\\n",
      "0       0.263262   -2.684240   -1.024390   -0.424118  ...    -1.801380   \n",
      "1       0.238013   -4.557450   -1.709400    0.137478  ...    -2.112970   \n",
      "2       0.801539    0.077472    0.582048    0.341986  ...     1.025670   \n",
      "3      -1.299880   -0.112417   -0.567536    0.091722  ...    -0.480741   \n",
      "4      -0.622195   -0.871179   -0.963666   -0.472631  ...    -0.387917   \n",
      "...          ...         ...         ...         ...  ...          ...   \n",
      "3995    0.186273    0.125612   -1.070360   -0.610600  ...    -2.138050   \n",
      "3996    2.243370    2.092310    2.033390    2.253580  ...     2.277620   \n",
      "3997    2.216990    2.404660    1.189440    0.779388  ...     2.352760   \n",
      "3998    2.121240   -0.841337   -1.165580    0.444316  ...    -0.229459   \n",
      "3999    0.556706   -0.311616    0.793468    0.206039  ...     0.295576   \n",
      "\n",
      "      y_prior[92]  y_prior[93]  y_prior[94]  y_prior[95]  y_prior[96]  \\\n",
      "0       -2.454890    -1.079190    -1.613020    -0.332437    -1.327070   \n",
      "1        0.224211    -1.077520    -3.850690    -0.264279    -3.808460   \n",
      "2        0.164211    -0.152310     0.851973     0.414053     0.492748   \n",
      "3       -0.550519    -0.889649     0.097239    -0.484118    -0.864443   \n",
      "4       -0.993000    -0.719574    -0.943854    -0.215291    -0.846361   \n",
      "...           ...          ...          ...          ...          ...   \n",
      "3995     0.131750    -0.011230    -1.548150     1.202330     0.799813   \n",
      "3996     2.130010     2.106110     2.127580     1.996310     2.216220   \n",
      "3997     0.939062     3.130740     0.903571     1.688130     1.437580   \n",
      "3998     1.319330    -0.881254     1.591730     1.601200    -0.005287   \n",
      "3999     0.199088     0.052642     0.242546     0.135720    -0.099516   \n",
      "\n",
      "      y_prior[97]  y_prior[98]  y_prior[99]  y_prior[100]  \n",
      "0       -1.787590    -1.621390    -0.837850     -0.894726  \n",
      "1       -0.346727     0.124005     0.913352      0.080408  \n",
      "2        0.189664     0.519968     0.538334      0.582247  \n",
      "3       -0.300069    -0.760911    -1.108930      0.050690  \n",
      "4       -0.148708    -0.405734    -0.543330     -0.841665  \n",
      "...           ...          ...          ...           ...  \n",
      "3995     2.068360     1.406020     0.402804     -1.547280  \n",
      "3996     1.995550     2.098900     1.996970      2.026840  \n",
      "3997     1.252570     0.668063     1.496540      0.657483  \n",
      "3998     1.377830     0.968694    -1.138140      2.138240  \n",
      "3999     0.034569     0.377525     0.168295      0.454870  \n",
      "\n",
      "[4000 rows x 104 columns]\n"
     ]
    },
    {
     "data": {
      "image/png": "[encoded data removed]",
      "text/plain": [
       "<Figure size 432x288 with 2 Axes>"
      ]
     },
     "metadata": {
      "needs_background": "light"
     },
     "output_type": "display_data"
    },
    {
     "data": {
      "image/png": "[encoded data removed]",
      "text/plain": [
       "<Figure size 432x288 with 2 Axes>"
      ]
     },
     "metadata": {
      "needs_background": "light"
     },
     "output_type": "display_data"
    }
   ],
   "source": [
    "data1 = {\n",
    "    \"N\": len(normal_csv['value']),\n",
    "    \"y\": normal_csv['value'].to_list()\n",
    "}\n",
    "\n",
    "data2 = {\n",
    "    \"N\": len(normal_csv['value'])\n",
    "}\n",
    "\n",
    "model1 = CmdStanModel(stan_file=\"stan3.stan\")\n",
    "model2 = CmdStanModel(stan_file=\"stan4.stan\")\n",
    "\n",
    "fit1 = model1.sample(data=data1)\n",
    "fit2 = model2.sample(data=data2)\n",
    "\n",
    "df1 = fit1.draws_pd()\n",
    "df2 = fit2.draws_pd()\n",
    "\n",
    "print(df1)\n",
    "print(df2)\n",
    "\n",
    "\n",
    "bins = 50\n",
    "plt.subplot(2,1,1)\n",
    "df1['sigma'].hist(bins = bins)\n",
    "plt.title(\"Sigma\")\n",
    "plt.subplot(2,1,2)\n",
    "df1['y_rep[1]'].hist(bins = bins)\n",
    "plt.title(\"y_rep\")\n",
    "plt.suptitle(\"With experimental data\")\n",
    "\n",
    "\n",
    "plt.figure(2)\n",
    "plt.subplot(2,1,1)\n",
    "df2['sigma'].hist(bins=bins)\n",
    "plt.title(\"Sigma\")\n",
    "plt.subplot(2,1,2)\n",
    "df2['y_prior[1]'].hist(bins = bins)\n",
    "plt.title(\"y_prior\")\n",
    "plt.suptitle(\"Without experimental data\")\n",
    "plt.show()\n",
    "\n",
    "# Conclusion:\n",
    "# Experimental data shifts the probability distribution plot\n",
    "# towards the probability distribution of the experimental data"
   ]
  }
 ],
 "metadata": {
  "interpreter": {
   "hash": "82a69a1f921ac622e4ddaccb1eb48a4a0f641349702ff854c62c93a6d01047e9"
  },
  "kernelspec": {
   "display_name": "Python 3.10.4 ('stan_env')",
   "language": "python",
   "name": "python3"
  },
  "language_info": {
   "codemirror_mode": {
    "name": "ipython",
    "version": 3
   },
   "file_extension": ".py",
   "mimetype": "text/x-python",
   "name": "python",
   "nbconvert_exporter": "python",
   "pygments_lexer": "ipython3",
   "version": "3.10.4"
  },
  "orig_nbformat": 4
 },
 "nbformat": 4,
 "nbformat_minor": 2
}
